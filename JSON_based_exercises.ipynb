{
 "cells": [
  {
   "cell_type": "code",
   "execution_count": 8,
   "metadata": {},
   "outputs": [
    {
     "name": "stdout",
     "output_type": "stream",
     "text": [
      "Republic of Indonesia              19\n",
      "People's Republic of China         19\n",
      "Socialist Republic of Vietnam      17\n",
      "Republic of India                  16\n",
      "Republic of Yemen                  13\n",
      "Nepal                              12\n",
      "Kingdom of Morocco                 12\n",
      "People's Republic of Bangladesh    12\n",
      "Republic of Mozambique             11\n",
      "Burkina Faso                        9\n",
      "Name: countryname, dtype: int64\n"
     ]
    }
   ],
   "source": [
    "'''JSON exercise\n",
    "Using data in file 'data/world_bank_projects.json' and the techniques demonstrated above,\n",
    "Find the 10 countries with most projects\n",
    "Find the top 10 major project themes (using column 'mjtheme_namecode')\n",
    "In 2. above you will notice that some entries have only the code and the name is missing. \n",
    "Create a dataframe with the missing names filled in.'''\n",
    "\n",
    "\n",
    "import numpy as np\n",
    "import pandas as pd\n",
    "import json\n",
    "from pandas.io.json import json_normalize\n",
    "\n",
    "#load the data as a dataframe\n",
    "json_data = pd.read_json('world_bank_projects.json')\n",
    "\n",
    "#use value_counts to return top 10 countries \n",
    "json_data['countryname'].value_counts()[:10]\n",
    "\n",
    "#Africa is not a country, so get next highest country and drop Africa\n",
    "top_countries = json_data['countryname'].value_counts()[:11].drop('Africa')\n",
    "print(top_countries)"
   ]
  },
  {
   "cell_type": "code",
   "execution_count": 10,
   "metadata": {},
   "outputs": [
    {
     "name": "stdout",
     "output_type": "stream",
     "text": [
      "11    250\n",
      "10    216\n",
      "8     210\n",
      "2     199\n",
      "6     168\n",
      "4     146\n",
      "7     130\n",
      "5      77\n",
      "9      50\n",
      "1      38\n",
      "3      15\n",
      "Name: code, dtype: int64 Environment and natural resources management    250\n",
      "Rural development                               216\n",
      "Human development                               210\n",
      "Public sector governance                        199\n",
      "Social protection and risk management           168\n",
      "Financial and private sector development        146\n",
      "Social dev/gender/inclusion                     130\n",
      "Trade and integration                            77\n",
      "Urban development                                50\n",
      "Economic management                              38\n",
      "Rule of law                                      15\n",
      "Name: name, dtype: int64\n"
     ]
    },
    {
     "data": {
      "text/plain": [
       "Environment and natural resources management    250\n",
       "Rural development                               216\n",
       "Human development                               210\n",
       "Public sector governance                        199\n",
       "Social protection and risk management           168\n",
       "Financial and private sector development        146\n",
       "Social dev/gender/inclusion                     130\n",
       "Trade and integration                            77\n",
       "Urban development                                50\n",
       "Economic management                              38\n",
       "Name: name, dtype: int64"
      ]
     },
     "execution_count": 10,
     "metadata": {},
     "output_type": "execute_result"
    }
   ],
   "source": [
    "#load json as string to normalize 'mjtheme_namecode' column\n",
    "json_str = json.load((open('world_bank_projects.json')))\n",
    "themes = json_normalize(json_str, 'mjtheme_namecode')\n",
    "\n",
    "#sort columns by code to fill missing name columns\n",
    "themes = themes.sort_values('code')\n",
    "\n",
    "#replace empty strings with nan in order to ffill, filled_names is dataframe with the missing names filled in\n",
    "filled_names = themes.replace('', np.nan).fillna(method='bfill')\n",
    "\n",
    "#check to make sure name.value_counts correspond to code.value_counts\n",
    "print(themes['code'].value_counts(), filled_names['name'].value_counts())\n",
    "top_themes = filled_names['name'].value_counts()[:10]\n",
    "top_themes"
   ]
  },
  {
   "cell_type": "code",
   "execution_count": null,
   "metadata": {
    "collapsed": true
   },
   "outputs": [],
   "source": []
  }
 ],
 "metadata": {
  "kernelspec": {
   "display_name": "Python 3",
   "language": "python",
   "name": "python3"
  },
  "language_info": {
   "codemirror_mode": {
    "name": "ipython",
    "version": 3
   },
   "file_extension": ".py",
   "mimetype": "text/x-python",
   "name": "python",
   "nbconvert_exporter": "python",
   "pygments_lexer": "ipython3",
   "version": "3.6.3"
  }
 },
 "nbformat": 4,
 "nbformat_minor": 2
}
