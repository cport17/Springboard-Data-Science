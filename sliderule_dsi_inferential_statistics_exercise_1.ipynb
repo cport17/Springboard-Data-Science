{
 "cells": [
  {
   "cell_type": "markdown",
   "metadata": {},
   "source": [
    "# What is the True Normal Human Body Temperature? \n",
    "\n",
    "#### Background\n",
    "\n",
    "The mean normal body temperature was held to be 37$^{\\circ}$C or 98.6$^{\\circ}$F for more than 120 years since it was first conceptualized and reported by Carl Wunderlich in a famous 1868 book. But, is this value statistically correct?"
   ]
  },
  {
   "cell_type": "markdown",
   "metadata": {},
   "source": [
    "<h3>Exercises</h3>\n",
    "\n",
    "<p>In this exercise, you will analyze a dataset of human body temperatures and employ the concepts of hypothesis testing, confidence intervals, and statistical significance.</p>\n",
    "\n",
    "<p>Answer the following questions <b>in this notebook below and submit to your Github account</b>.</p> \n",
    "\n",
    "<ol>\n",
    "<li>  Is the distribution of body temperatures normal? \n",
    "    <ul>\n",
    "    <li> Although this is not a requirement for the Central Limit Theorem to hold (read the introduction on Wikipedia's page about the CLT carefully: https://en.wikipedia.org/wiki/Central_limit_theorem), it gives us some peace of mind that the population may also be normally distributed if we assume that this sample is representative of the population.\n",
    "    <li> Think about the way you're going to check for the normality of the distribution. Graphical methods are usually used first, but there are also other ways: https://en.wikipedia.org/wiki/Normality_test\n",
    "    </ul>\n",
    "<li>  Is the sample size large? Are the observations independent?\n",
    "    <ul>\n",
    "    <li> Remember that this is a condition for the Central Limit Theorem, and hence the statistical tests we are using, to apply.\n",
    "    </ul>\n",
    "<li>  Is the true population mean really 98.6 degrees F?\n",
    "    <ul>\n",
    "    <li> First, try a bootstrap hypothesis test.\n",
    "    <li> Now, let's try frequentist statistical testing. Would you use a one-sample or two-sample test? Why?\n",
    "    <li> In this situation, is it appropriate to use the $t$ or $z$ statistic? \n",
    "    <li> Now try using the other test. How is the result be different? Why?\n",
    "    </ul>\n",
    "<li>  Draw a small sample of size 10 from the data and repeat both frequentist tests. \n",
    "    <ul>\n",
    "    <li> Which one is the correct one to use? \n",
    "    <li> What do you notice? What does this tell you about the difference in application of the $t$ and $z$ statistic?\n",
    "    </ul>\n",
    "<li>  At what temperature should we consider someone's temperature to be \"abnormal\"?\n",
    "    <ul>\n",
    "    <li> As in the previous example, try calculating everything using the boostrap approach, as well as the frequentist approach.\n",
    "    <li> Start by computing the margin of error and confidence interval. When calculating the confidence interval, keep in mind that you should use the appropriate formula for one draw, and not N draws.\n",
    "    </ul>\n",
    "<li>  Is there a significant difference between males and females in normal temperature?\n",
    "    <ul>\n",
    "    <li> What testing approach did you use and why?\n",
    "    <li> Write a story with your conclusion in the context of the original problem.\n",
    "    </ul>\n",
    "</ol>\n",
    "\n",
    "You can include written notes in notebook cells using Markdown: \n",
    "   - In the control panel at the top, choose Cell > Cell Type > Markdown\n",
    "   - Markdown syntax: http://nestacms.com/docs/creating-content/markdown-cheat-sheet\n",
    "\n",
    "#### Resources\n",
    "\n",
    "+ Information and data sources: http://www.amstat.org/publications/jse/datasets/normtemp.txt, http://www.amstat.org/publications/jse/jse_data_archive.htm\n",
    "+ Markdown syntax: http://nestacms.com/docs/creating-content/markdown-cheat-sheet\n",
    "\n",
    "****"
   ]
  },
  {
   "cell_type": "code",
   "execution_count": 85,
   "metadata": {
    "collapsed": true
   },
   "outputs": [],
   "source": [
    "import pandas as pd\n",
    "\n",
    "df = pd.read_csv('data/human_body_temperature.csv')"
   ]
  },
  {
   "cell_type": "markdown",
   "metadata": {},
   "source": [
    "### Questions 1 and 2 : Validity of CLT"
   ]
  },
  {
   "cell_type": "code",
   "execution_count": 186,
   "metadata": {},
   "outputs": [
    {
     "data": {
      "image/png": "[encoded data removed]",
      "text/plain": [
       "<matplotlib.figure.Figure at 0x11be9c400>"
      ]
     },
     "metadata": {},
     "output_type": "display_data"
    },
    {
     "data": {
      "image/png": "[encoded data removed]",
      "text/plain": [
       "<matplotlib.figure.Figure at 0x11bf349e8>"
      ]
     },
     "metadata": {},
     "output_type": "display_data"
    }
   ],
   "source": [
    "import matplotlib.pyplot as plt\n",
    "import numpy as np\n",
    "\n",
    "%matplotlib inline\n",
    "\n",
    "np.random.seed(23)\n",
    "\n",
    "plt.subplot(1,2,1)\n",
    "plt.hist(df['temperature'], bins=20)\n",
    "plt.subplot(1,2,2)\n",
    "plt.hist(np.random.normal(0,1,1000), bins=20)\n",
    "plt.show()\n",
    "plt.boxplot(df['temperature'])\n",
    "plt.show()"
   ]
  },
  {
   "cell_type": "markdown",
   "metadata": {},
   "source": [
    "It looks like it is approximately normal based on the histogram comparing a normal distribution and on the boxplot. With the sample size > 30 we can assume normality as well. Additionally, the observations can be considered independent bacause the size of the sample (len(df) = 130) is < 10% of the population."
   ]
  },
  {
   "cell_type": "markdown",
   "metadata": {},
   "source": [
    "### Question 3: Bootstrap Hypothesis Testing\n",
    "Null Hypothesis: The mean body temperature of the sample = 98.6\n",
    "\n",
    "Alternate hypothesis: The mean body temperature of the sample != 98.6"
   ]
  },
  {
   "cell_type": "code",
   "execution_count": 142,
   "metadata": {},
   "outputs": [
    {
     "data": {
      "text/plain": [
       "0.0"
      ]
     },
     "execution_count": 142,
     "metadata": {},
     "output_type": "execute_result"
    }
   ],
   "source": [
    "def bootstrap_replicate_1d(data, func):\n",
    "    return func(np.random.choice(data, size=len(data)))\n",
    "\n",
    "def draw_bs_reps(data, func, size=1):\n",
    "    \"\"\"Draw bootstrap replicates.\"\"\"\n",
    "\n",
    "    # Initialize array of replicates: bs_replicates\n",
    "    bs_replicates = np.empty(size)\n",
    "\n",
    "    # Generate replicates\n",
    "    for i in range(size):\n",
    "        bs_replicates[i] = bootstrap_replicate_1d(data,func)\n",
    "\n",
    "    return bs_replicates   \n",
    "\n",
    "def diff_from_mean(data):\n",
    "    return np.mean(data)-98.6\n",
    "\n",
    "mean_shifted = df.temperature - df.temperature.mean() + 98.6\n",
    "diff_obs = diff_from_mean(df.temperature)  #-0.351\n",
    "#Get 1000 replicates\n",
    "bs_replicates = draw_bs_reps(mean_shifted, diff_from_mean, 10000)\n",
    "p_value = np.sum(bs_replicates <= diff_obs)/len(bs_replicates) # 0.0000\n",
    "p_value"
   ]
  },
  {
   "cell_type": "markdown",
   "metadata": {},
   "source": [
    "The p value is 0, we never get a result as extreme as the one observed, so we reject the null, the mean body temp is not 98.6."
   ]
  },
  {
   "cell_type": "markdown",
   "metadata": {},
   "source": [
    "### Question 3: Frequentist Statistical Approach\n",
    "I will use a one-sample test because we are only testing one sample mean.\n",
    "Since the sample size is over 30, we can use either the z test or the t test, but we don't know the population standard deviation, so well use the t test originally.\n",
    "When the degrees of freedom > 30 the t test and z test are nearly identical. \n",
    "\n",
    "t = (sample mean - mu) / (sigma / sqrt(n))\n",
    "\n",
    "z = (sample mean - mu) / (sigma / sqrt(n))"
   ]
  },
  {
   "cell_type": "code",
   "execution_count": 175,
   "metadata": {},
   "outputs": [
    {
     "data": {
      "text/plain": [
       "(-5.4548232923640789, -5.4548232923640789)"
      ]
     },
     "execution_count": 175,
     "metadata": {},
     "output_type": "execute_result"
    }
   ],
   "source": [
    "t = (df.temperature.mean() - 98.6)/(df.temperature.std()/np.sqrt(len(df.temperature))) # -5.455\n",
    "z = (df.temperature.mean() - 98.6)/(df.temperature.std()/np.sqrt(len(df.temperature))) # -5.455\n",
    "t, z"
   ]
  },
  {
   "cell_type": "markdown",
   "metadata": {},
   "source": [
    "For a t score of -5.455 with 129 degrees of freedom, the p value is < 0.0001\n",
    "\n",
    "For a z score of -5.455, the p value is < 0.0001 \n",
    "\n",
    "In both cases we reject the null. Additionally, the z test and t test are the same because the sample size is > 30 "
   ]
  },
  {
   "cell_type": "markdown",
   "metadata": {},
   "source": [
    "### Quesiton 4: Small Sample Size\n"
   ]
  },
  {
   "cell_type": "code",
   "execution_count": 174,
   "metadata": {},
   "outputs": [
    {
     "data": {
      "text/plain": [
       "(-2.8347335475693254, -2.8347335475693254)"
      ]
     },
     "execution_count": 174,
     "metadata": {},
     "output_type": "execute_result"
    }
   ],
   "source": [
    "small_sample = np.random.choice(df.temperature, 10)\n",
    "t = (small_sample.mean() - 98.6)/(small_sample.std()/np.sqrt(len(small_sample))) # -2.835\n",
    "z = (small_sample.mean() - 98.6)/(small_sample.std()/np.sqrt(len(small_sample))) # -2.835\n",
    "t, z"
   ]
  },
  {
   "cell_type": "markdown",
   "metadata": {},
   "source": [
    "The t test is the correct statistic to use when the sample size is < 30.\n",
    "\n",
    "For a t score of -2.835 with 9 degrees of freedom, the p value is 0.0196\n",
    "\n",
    "For a z score of -2.835, the p value is 0.0046\n",
    "\n",
    "The t score p value is higher, indicating that the spread of the t distribution at df = 9 is wider than that of the z test, lowering the significance of the findings of the data. This makes sense because with less data the conclusion should not be as significant. At both levels we would reject the null with alpha=.05. This tells us that with less data the t score will give us a higher p level, thus making the probability of getting a significant difference being lower. As a result, the t score p level is a more conservative estimate that is more likely to be right when it does lead us to rejecting a given null hypothesis."
   ]
  },
  {
   "cell_type": "markdown",
   "metadata": {},
   "source": [
    "### Question 5:\n",
    "We are going to decide that someone's temperature is abnormal if it is outside of the 95% confidence interval with alpha = .05 \n",
    "\n",
    "Using Bootstrapping:"
   ]
  },
  {
   "cell_type": "code",
   "execution_count": 176,
   "metadata": {},
   "outputs": [
    {
     "data": {
      "text/plain": [
       "array([ 98.12307692,  98.37538462])"
      ]
     },
     "execution_count": 176,
     "metadata": {},
     "output_type": "execute_result"
    }
   ],
   "source": [
    "bs_replicates = draw_bs_reps(df.temperature, np.mean, 10000)\n",
    "\n",
    "conf_int_bs = np.percentile(bs_replicates, [2.5,97.5])\n",
    "conf_int_bs"
   ]
  },
  {
   "cell_type": "markdown",
   "metadata": {},
   "source": [
    "Using bootstrapping, if the temperatures is below 98.12 or greater than 98.37, it is outside the 95% confidence interval and will be considered abnormal."
   ]
  },
  {
   "cell_type": "markdown",
   "metadata": {},
   "source": [
    "### Frequentist Approach"
   ]
  },
  {
   "cell_type": "code",
   "execution_count": 177,
   "metadata": {},
   "outputs": [
    {
     "data": {
      "text/plain": [
       "(98.123194112228518, 98.375267426233037)"
      ]
     },
     "execution_count": 177,
     "metadata": {},
     "output_type": "execute_result"
    }
   ],
   "source": [
    "me = 1.96*df.temperature.std()/np.sqrt(len(df.temperature)) # margin of error is .126\n",
    "conf_int_fre = ((df.temperature.mean()-me),(df.temperature.mean()+me)) # 95% conf interval is (98.123, 98.375)\n",
    "conf_int_fre"
   ]
  },
  {
   "cell_type": "markdown",
   "metadata": {},
   "source": [
    "Using a frequintist approach, if the temperatures is below 98.12 or greater than 98.38, it is outside the 95% confidence interval and will be considered abnormal."
   ]
  },
  {
   "cell_type": "markdown",
   "metadata": {},
   "source": [
    "### Question 6: Male and Female Temperature Difference\n",
    "I will use a frequintist two sample approach because we are sampling two means, one for male, one for female.\n",
    "\n",
    "Null Hypothesis: male sample mean = female sample mean\n",
    "\n",
    "Alternate Hypothesis: male sample mean != female sample mean\n",
    "\n",
    "alpha=.05\n"
   ]
  },
  {
   "cell_type": "code",
   "execution_count": 179,
   "metadata": {},
   "outputs": [],
   "source": [
    "male = df[df.gender=='M']\n",
    "female = df[df.gender=='F']"
   ]
  },
  {
   "cell_type": "markdown",
   "metadata": {},
   "source": [
    "We will use a t test because the population standard deviation is not known. Since both the male and female sample sizes are greater than 30 though, it will be the identical to the z test. \n",
    "\n",
    "T score = (female mean - male mean)/sqrt((male variance/ male sample size) + (female variance/female sample size))"
   ]
  },
  {
   "cell_type": "code",
   "execution_count": 181,
   "metadata": {},
   "outputs": [
    {
     "data": {
      "text/plain": [
       "-2.2854345381652741"
      ]
     },
     "execution_count": 181,
     "metadata": {},
     "output_type": "execute_result"
    }
   ],
   "source": [
    "gender_diff = male.temperature.mean()-female.temperature.mean() # -.289\n",
    "t = gender_diff / (np.sqrt(male.temperature.var()/len(male.temperature)+female.temperature.var()/len(female.temperature)))\n",
    "t\n"
   ]
  },
  {
   "cell_type": "markdown",
   "metadata": {},
   "source": [
    "For a t score of -2.285, the p value is .0223, which is below alpha, therefore we reject the null hypothesis that the mean temperature difference for males and females are the same. Females do seem to have a higher mean temperature.\n",
    "\n",
    "### Conclusion\n",
    "\n",
    "After the statistical analysis, it seems as though the mean body temperature is not 98.6, and that females seem to have a different body temperature than males."
   ]
  },
  {
   "cell_type": "code",
   "execution_count": null,
   "metadata": {
    "collapsed": true
   },
   "outputs": [],
   "source": []
  }
 ],
 "metadata": {
  "kernelspec": {
   "display_name": "Python 3",
   "language": "python",
   "name": "python3"
  },
  "language_info": {
   "codemirror_mode": {
    "name": "ipython",
    "version": 3
   },
   "file_extension": ".py",
   "mimetype": "text/x-python",
   "name": "python",
   "nbconvert_exporter": "python",
   "pygments_lexer": "ipython3",
   "version": "3.6.3"
  }
 },
 "nbformat": 4,
 "nbformat_minor": 1
}
